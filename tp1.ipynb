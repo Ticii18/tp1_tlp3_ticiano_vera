{
 "cells": [
  {
   "cell_type": "markdown",
   "metadata": {},
   "source": [
    "# Criterios de evaluación.\n",
    "\n",
    "* Se deben utilizar nombres de variables descriptivos y claros (Utilizar la nomeclatura correspondiente para los nombres de variables).\n",
    "* Comentarios claros y concisos que expliquen el propósito de cada sección del código.\n",
    "* Entrega en tiempo y forma.\n",
    "* Todo el código desarrollado debe ser subido a un repositorio en GitHub (el nombre del repositorio de seguir la siguiente estructura: tp1_tlp3_nombre_apellido).\n",
    "\n",
    "\n",
    "**Aclaración: Para resolver las actividades se debe incertar casillas de codigo entre cada actividad del cuaderno de Jupyter**"
   ]
  },
  {
   "cell_type": "markdown",
   "metadata": {},
   "source": [
    "### 1. **Hola Mundo y Variables**\n",
    "\n",
    "   - **Actividad 1.1**: Deben escribir un programa que imprima \"¡Hola, Mundo!\" en la consola.\n",
    "   - **Actividad 1.2**: Deben crear una variable llamada `nombre` y hacer que el programa imprima un saludo personalizado: `Hola, <nombre>!`"
   ]
  },
  {
   "cell_type": "code",
   "execution_count": null,
   "metadata": {},
   "outputs": [],
   "source": [
    "\n",
    "# todo: Resolución\n",
    "print(\"¡Hola, Mundo!\");\n",
    "\n",
    "nombre= \"Vera Ticiano\";\n",
    "print(\"¡Hola, \",nombre,\"!\");"
   ]
  },
  {
   "cell_type": "markdown",
   "metadata": {},
   "source": [
    "### 2. **Operaciones Matemáticas Básicas**\n",
    "\n",
    "   - **Actividad 1.1**: Crear un programa que pida al usuario dos números y realice las cuatro operaciones matemáticas básicas (suma, resta, multiplicación y división), imprimiendo los resultados.\n",
    "   - **Actividad 1.2**: Hacer que el programa calcule el promedio de los dos números."
   ]
  },
  {
   "cell_type": "code",
   "execution_count": null,
   "metadata": {},
   "outputs": [],
   "source": [
    "\n",
    "# todo: Resolución\n",
    "num1=int(input(\"Ingrese un número: \"));\n",
    "num2=int(input(\"Ingrese un número: \"));\n",
    "\n",
    "#Hago todas las opreaciones solicitadas\n",
    "\n",
    "print(\"La suma de ambos numeros es: \", num1+num2);\n",
    "print(\"La resta de ambos numeros es: \", num1-num2);\n",
    "print(\"La multiplicacion de ambos numeros es: \", num1*num2);\n",
    "print(\"La division de ambos numeros es: \", num1/num2);\n",
    "print(\"La division sin decimales de ambos numeros es: \", num1//num2);\n",
    "print(\"El promedio de ambos numeros es: \", (num1+num2)/2);"
   ]
  },
  {
   "cell_type": "markdown",
   "metadata": {},
   "source": [
    "### 3. **Condicionales (if-else)**\n",
    "\n",
    "   - **Actividad 1.1**: Escribir un programa que pida al usuario su edad y le diga si es mayor de edad (18 años o más).\n",
    "   - **Actividad 1.2**: Agregar un mensaje diferente para diferentes rangos de edad, como por ejemplo, si es un niño, adolescente o adulto."
   ]
  },
  {
   "cell_type": "code",
   "execution_count": null,
   "metadata": {},
   "outputs": [],
   "source": [
    "\n",
    "# todo: Resolución\n",
    "\n",
    "edad= int(input(\"Ingrese su edad: \"));\n",
    "\n",
    "#Hago todas las comparaciones solicitadas\n",
    "\n",
    "if edad>=18 and edad<90:\n",
    "    print(\"Usted es mayor de edad\");\n",
    "elif edad<10 and edad>0:\n",
    "    print(\"Usted es un niño\");\n",
    "elif edad>=10 and edad<18:\n",
    "    print(\"Usted es un adolescente\");\n",
    "elif edad>18 and edad<60:\n",
    "    print(\"Usted es un adulto\");\n",
    "elif edad>=60 and edad<90:\n",
    "    print(\"Usted es un anciano\");\n",
    "else:\n",
    "    print(\"ingrese una edad valida\");"
   ]
  },
  {
   "cell_type": "markdown",
   "metadata": {},
   "source": [
    "### 4. **Ciclos (while, for)**\n",
    "\n",
    "   - **Actividad 1.1**: Escribir un programa que imprima los números del 1 al 10 usando un bucle `for`.\n",
    "   - **Actividad 1.2**: Usar un bucle `while` para imprimir los números del 1 al 10, e imprimir solo aquellos números que sean divisibles por 2."
   ]
  },
  {
   "cell_type": "code",
   "execution_count": null,
   "metadata": {},
   "outputs": [],
   "source": [
    "\n",
    "# todo: Resolución\n",
    "\n",
    "#Hago un bucle for que imprima los numeros del 1 al 10\n",
    "for i in range (0,10):\n",
    "    print(i+1);\n",
    "\n",
    "print(\"\");\n",
    "\n",
    "#Hago un bucle while que imprima los numeros divisibles por 2 en el rango del 1 al 10\n",
    "i=0;\n",
    "while i<10:\n",
    "    i+=1;\n",
    "    if i%2==0:\n",
    "        print(i);\n"
   ]
  },
  {
   "cell_type": "markdown",
   "metadata": {},
   "source": [
    "### 5. **Listas y Bucles**\n",
    "\n",
    "   - **Actividad 1.1**: Crear una lista con 5 números y escribir un programa que imprima cada número de la lista usando un bucle `for`.\n",
    "   - **Actividad 1.2**: Usar un bucle para calcular la suma de los números de la lista."
   ]
  },
  {
   "cell_type": "code",
   "execution_count": null,
   "metadata": {},
   "outputs": [],
   "source": [
    "\n",
    "# todo: Resolución\n",
    "\n",
    "#Creo una lista con los elementos solicitados\n",
    "lista = [1,2,3,4,5]\n",
    "for i in lista:\n",
    "    print(i);\n",
    "\n",
    "#hago un espacio para que se vea mejor\n",
    "print(\"\");\n",
    "\n",
    "#Hago un bucle for que sume los elementos de la lista\n",
    "suma=0;\n",
    "for i in lista:\n",
    "    suma+=i;\n",
    "print(\"La suma de los elementos de la lista es: \", suma);\n"
   ]
  },
  {
   "cell_type": "markdown",
   "metadata": {},
   "source": [
    "### 6. **Funciones**\n",
    "\n",
    "   - **Actividad 1.1**: Escribir una función llamada `saludo` que reciba un nombre como parámetro y devuelva un saludo personalizado.\n",
    "   - **Actividad 1.2**: Crear una función que reciba dos números y devuelva su suma, resta, multiplicación y división."
   ]
  },
  {
   "cell_type": "code",
   "execution_count": null,
   "metadata": {},
   "outputs": [],
   "source": [
    "\n",
    "# todo: Resolución\n",
    "\n",
    "#Creo una funcion llamado saludo que reciba el nombre como parametro\n",
    "def saludo(nombre):\n",
    "    #Imprimo el saludo\n",
    "    print(\"Hola, \",nombre);\n",
    "\n",
    "#Pido el nombre al usuario y llamo a la funcion\n",
    "nombre= input(\"Ingrese su nombre: \");\n",
    "saludo(nombre);\n",
    "\n",
    "print(\"\");\n",
    "\n",
    "#Creo una funcion llamado operaciones que reciba dos numeros como parametro\n",
    "def operaciones (num1,num2):\n",
    "    print(\"La suma de ambos numeros es: \", num1+num2);\n",
    "    print(\"La resta de ambos numeros es: \", num1-num2);\n",
    "    print(\"La multiplicacion de ambos numeros es: \", num1*num2);\n",
    "    print(\"La division de ambos numeros es: \", num1/num2);\n",
    "    print(\"La division sin decimales de ambos numeros es: \", num1//num2);\n",
    "\n",
    "#Pido los numeros al usuario y llamo a la funcion\n",
    "num1=int(input(\"Ingrese un número: \"));\n",
    "num2=int(input(\"Ingrese un número: \"));\n",
    "operaciones(num1,num2);"
   ]
  },
  {
   "cell_type": "markdown",
   "metadata": {},
   "source": [
    "### 7. **Manejo de cadenas de texto**\n",
    "\n",
    "   - **Actividad 1.1**: Escribir un programa que pida al usuario su nombre y lo imprima en mayúsculas y en minúsculas.\n",
    "   - **Actividad 1.2**: Hacer que el programa imprima la longitud del nombre ingresado (no tener en cuenta los espacios en blanco)."
   ]
  },
  {
   "cell_type": "code",
   "execution_count": null,
   "metadata": {},
   "outputs": [],
   "source": [
    "\n",
    "#Creo una funcion llamada mayus_minus que reciba un nombre como parametro\n",
    "def mayus_minus (nombre):\n",
    "    #Imprimo el nombre en mayusculas y minusculas\n",
    "    print(nombre.upper());\n",
    "    print(nombre.lower());\n",
    "\n",
    "#Pido el nombre al usuario y llamo a la funcion\n",
    "nombre= input(\"Ingrese su nombre: \");\n",
    "mayus_minus(nombre);\n",
    "\n",
    "print(\"\");\n",
    "\n",
    "#Creo una funcion llamada longitud que reciba un nombre como parametro\n",
    "def longitud (nombre):\n",
    "    #Imprimo la longitud del nombre, utilizando el metodo len y restandole los espacios \n",
    "    print(\"La longitud del nombre es: \", len(nombre)-nombre.count(\" \"));\n",
    "\n",
    "#Pido el nombre al usuario y llamo a la funcion\n",
    "nombre= input(\"Ingrese su nombre: \");\n",
    "longitud(nombre);"
   ]
  },
  {
   "cell_type": "markdown",
   "metadata": {},
   "source": [
    "### 8. **Diccionarios**\n",
    "\n",
    "   - **Actividad1.1**: Crear un diccionario que contenga los nombres de tres personas como claves y sus edades como valores. El programa debe imprimir la edad de cada persona.\n",
    "   - **Actividad1.2**: Escribir un programa que pregunte al usuario un nombre, luego su edad y los agregue al diccionario."
   ]
  },
  {
   "cell_type": "code",
   "execution_count": null,
   "metadata": {},
   "outputs": [],
   "source": [
    "\n",
    "# todo: Resolución\n",
    "\n",
    "#Creo un diccionario con los elementos solicitados\n",
    "diccionario = {\"Juan\": 20, \"Maria\": 30, \"Pedro\": 40};\n",
    "\n",
    "#Hago un bucle for que imprima los elementos del diccionario\n",
    "for i in diccionario:\n",
    "    #Imprimo el nombre y la edad\n",
    "    print(\"La edad de \", i, \" es: \", diccionario[i]);\n",
    "\n",
    "print(\"\");\n",
    "\n",
    "#Creo un diccionario vacio para luego ingresarle los datos \n",
    "nombreEdad={};\n",
    "\n",
    "#Pido el nombre y la edad al usuario y lo agrego al diccionario\n",
    "nombre= input(\"Ingrese un nombre: \");\n",
    "edad= int(input(\"Ingrese una edad: \"));\n",
    "\n",
    "#Agrego el nombre y la edad al diccionario\n",
    "nombreEdad[nombre]=edad;\n",
    "\n",
    "#Imprimo el diccionario\n",
    "print(nombreEdad);\n"
   ]
  },
  {
   "cell_type": "markdown",
   "metadata": {},
   "source": [
    "### 9. **Números aleatorios**\n",
    "\n",
    "   - **Actividad 1.1**: Escribir un programa que genere 5 números aleatorios entre 1 y 100, lo imprima por consola y diga si es mayor o menor a 50.\n",
    "   - **Actividad 1.2**: Sumar los 5 números generados aleatoriamente y en caso de que el resultado sea mayor a 100, mostrar el valor antes de ser mayor a 100 y cuantos números se sumaron para llegar a dicho valor."
   ]
  },
  {
   "cell_type": "code",
   "execution_count": null,
   "metadata": {},
   "outputs": [],
   "source": [
    "\n",
    "# todo: Resolución\n",
    "\n",
    "#Importo la libreria random para generar numeros aleatorios\n",
    "import random as random\n",
    "\n",
    "#Hago un bucle for que imprima 5 numeros aleatorios y si son mayores o menores a 50\n",
    "for i in range(0,5):\n",
    "    #Genero un numero y lo guardo en la variable \"num\"\n",
    "    num=random.randint(1,100);\n",
    "    print(num);\n",
    "    if num>50:\n",
    "        print(\"El número es mayor a 50\");\n",
    "    else:\n",
    "        print(\"El número es menor a 50\");\n",
    "\n",
    "print(\"\");\n",
    "\n",
    "#Creo la variable suma que su valor predefinido va a ser 0\n",
    "suma=0;\n",
    "\n",
    "#Creo la variable contador que su valor predefinido va a ser 0\n",
    "contador=0;\n",
    "\n",
    "#Hago un bucle while que imprima numeros aleatorios hasta que la suma sea mayor a 100\n",
    "while suma<=100:\n",
    "    #Genero un numero y lo guardo en la variable \"num\"\n",
    "    num=random.randint(1,100);\n",
    "\n",
    "    #Imprimo el numero\n",
    "    print(num);\n",
    "\n",
    "    #Sumo el numero a la variable suma\n",
    "    suma+=num;\n",
    "\n",
    "    #Sumo 1 a la variable contador\n",
    "    contador+=1;\n",
    "print(\"La suma de los números es: \", suma);"
   ]
  },
  {
   "cell_type": "markdown",
   "metadata": {},
   "source": [
    "### 10. **Proyecto Final: Calculadora**\n",
    "\n",
    "   - **Actividad 1.1**: Los estudiantes deben crear una calculadora básica que permita realizar operaciones de suma, resta, multiplicación y división con entradas del usuario. El programa debe pedir al usuario que elija la operación y luego introducir 2 números para realizar el cálculo.\n",
    "   - **Actividad 1.2**: Implementar una opción para que el usuario pueda continuar haciendo cálculos o salir del programa."
   ]
  },
  {
   "cell_type": "code",
   "execution_count": null,
   "metadata": {},
   "outputs": [],
   "source": [
    "\n",
    "# todo: Resolución\n",
    "\n",
    "#Solicito al usuario que ingrese la operacion que desea realizar\n",
    "\n",
    "operacion= input(\"Ingrese la operación que desea realizar: + (SUMA), - (RESTA), * (MULTIPLICACION), / (DIVISION), //(DIVISION ENTERA) : \");\n",
    "\n",
    "#Elimino los espacios y paso la operacion a mayusculas para evitar errores\n",
    "operacion = operacion.replace(\" \", \"\").upper()\n",
    "\n",
    "#Solicito al usuario que ingrese los numeros\n",
    "num1= int(input(\"Ingrese un número: \"));\n",
    "num2= int(input(\"Ingrese un número: \"));\n",
    "\n",
    "#Hago las operaciones solicitadas, ya sea que el usuario ingrese el simbolo o la palabra\n",
    "if operacion==\"+\" or operacion==\"SUMA\":\n",
    "    print(\"La suma de ambos numeros es: \", num1+num2);\n",
    "elif operacion==\"-\" or operacion==\"RESTA\":\n",
    "    print(\"La resta de ambos numeros es: \", num1-num2);\n",
    "elif operacion==\"*\" or operacion==\"MULTIPLICACION\":\n",
    "    print(\"La multiplicacion de ambos numeros es: \", num1*num2);\n",
    "elif operacion==\"/\" or operacion==\"DIVISION\":\n",
    "    print(\"La division de ambos numeros es: \", num1/num2);\n",
    "elif operacion==\"//\" or operacion==\"DIVISION ENTERA\":\n",
    "    print(\"La division sin decimales de ambos numeros es: \", num1//num2);\n",
    "\n",
    "#Si el usuario no ingresa una operacion valida, le informo\n",
    "else:\n",
    "    print(\"Ingrese una operación válida\");"
   ]
  },
  {
   "cell_type": "markdown",
   "metadata": {},
   "source": [
    "### EXTRA. **Juegos Simples (Adivina el número)**\n",
    "\n",
    "   - **Actividad 1.1**: Escribir un juego donde el programa elija un número aleatorio entre 1 y 100 y el usuario tenga que adivinarlo. El programa debe dar pistas si el número es mayor o menor.\n",
    "   - **Actividad 1.2**: Limitar el número de intentos y mostrar un mensaje de éxito o fracaso al final."
   ]
  },
  {
   "cell_type": "code",
   "execution_count": null,
   "metadata": {},
   "outputs": [],
   "source": [
    "# todo: Resolución\n",
    "\n",
    "#Importo la libreria random para generar numeros aleatorios\n",
    "import random as r\n",
    "\n",
    "#Genero un numero aleatorio entre 1 y 100 y lo guardo en la variable \"num\"\n",
    "num=r.randint(1,100);\n",
    "\n",
    "#Creo la variable intentos que su valor predefinido va a ser 0\n",
    "intentos=0;\n",
    "\n",
    "print(\"Adivina el número entre 1 y 100. Tienes 10 intentos\");\n",
    "\n",
    "#Hago un bucle while que le de 10 intentos al usuario para adivinar el numero\n",
    "while intentos<10:\n",
    "\n",
    "    #Solicito al usuario que adivine el numero\n",
    "    adivinanza= int(input(\"Adivine el número: \"));\n",
    "\n",
    "    #Comparo la adivinanza con el numero generado\n",
    "    if adivinanza==num:\n",
    "        print(\"¡Felicidades! Adivinaste el número: \", num);\n",
    "        break;\n",
    "    elif adivinanza<num:\n",
    "        print(\"El número es mayor\");\n",
    "    else:\n",
    "        print(\"El número es menor\");\n",
    "    \n",
    "    #Sumo 1 a la variable intentos\n",
    "    intentos+=1;\n",
    "\n",
    "#Si el usuario no adivina el numero en 10 intentos, le informo\n",
    "if intentos==10:\n",
    "    print(\"¡Lo siento! No adivinaste el número, el numero era: \", num);\n",
    "\n"
   ]
  }
 ],
 "metadata": {
  "kernelspec": {
   "display_name": "Python 3",
   "language": "python",
   "name": "python3"
  },
  "language_info": {
   "codemirror_mode": {
    "name": "ipython",
    "version": 3
   },
   "file_extension": ".py",
   "mimetype": "text/x-python",
   "name": "python",
   "nbconvert_exporter": "python",
   "pygments_lexer": "ipython3",
   "version": "3.13.2"
  }
 },
 "nbformat": 4,
 "nbformat_minor": 2
}
